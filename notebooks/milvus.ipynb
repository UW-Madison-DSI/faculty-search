{
 "cells": [
  {
   "cell_type": "markdown",
   "metadata": {},
   "source": [
    "## Load data from author json file"
   ]
  },
  {
   "cell_type": "code",
   "execution_count": null,
   "metadata": {},
   "outputs": [],
   "source": [
    "import logging\n",
    "from tqdm.auto import tqdm\n",
    "from pymilvus import connections, utility, Collection\n",
    "from embedding_search.vector_store import (\n",
    "    AUTHORS_DIR,\n",
    "    create_author_collection,\n",
    "    create_article_collection,\n",
    "    make_articles_data_packages,\n",
    "    push_data,\n",
    ")\n",
    "\n",
    "logging.basicConfig(level=logging.DEBUG)"
   ]
  },
  {
   "cell_type": "markdown",
   "metadata": {},
   "source": [
    "### Connect to Milvus"
   ]
  },
  {
   "cell_type": "code",
   "execution_count": null,
   "metadata": {},
   "outputs": [],
   "source": [
    "# `standalone` is the service name from docker-compose\n",
    "connections.connect(\"default\", host=\"milvus-standalone\", port=\"19530\")\n",
    "print(utility.get_server_version())"
   ]
  },
  {
   "cell_type": "markdown",
   "metadata": {},
   "source": [
    "## Make Milvus collections"
   ]
  },
  {
   "cell_type": "markdown",
   "metadata": {},
   "source": [
    "Init collection and load data from json file"
   ]
  },
  {
   "cell_type": "code",
   "execution_count": null,
   "metadata": {},
   "outputs": [],
   "source": [
    "# create_author_collection()\n",
    "# create_article_collection()"
   ]
  },
  {
   "cell_type": "code",
   "execution_count": null,
   "metadata": {},
   "outputs": [],
   "source": [
    "utility.list_collections()"
   ]
  },
  {
   "cell_type": "markdown",
   "metadata": {},
   "source": [
    "List collections"
   ]
  },
  {
   "cell_type": "code",
   "execution_count": null,
   "metadata": {},
   "outputs": [],
   "source": [
    "connections.disconnect(alias=\"default\")"
   ]
  },
  {
   "cell_type": "code",
   "execution_count": null,
   "metadata": {},
   "outputs": [],
   "source": [
    "author_collection = Collection(\"authors\")\n",
    "print(f\"There are {author_collection.num_entities} authors in the DB.\")\n",
    "\n",
    "article_collection = Collection(\"articles\")\n",
    "print(f\"There are {article_collection.num_entities} articles in the DB.\")"
   ]
  },
  {
   "cell_type": "code",
   "execution_count": null,
   "metadata": {},
   "outputs": [],
   "source": [
    "author_collection"
   ]
  },
  {
   "cell_type": "code",
   "execution_count": null,
   "metadata": {},
   "outputs": [],
   "source": [
    "from api.core import Engine\n",
    "from langchain.embeddings import OpenAIEmbeddings\n",
    "embeddings = OpenAIEmbeddings()\n",
    "engine = Engine(author_collection, article_collection, embeddings)"
   ]
  },
  {
   "cell_type": "code",
   "execution_count": null,
   "metadata": {},
   "outputs": [],
   "source": [
    "y = engine.embed(\"I will be late\")"
   ]
  },
  {
   "cell_type": "code",
   "execution_count": null,
   "metadata": {},
   "outputs": [],
   "source": [
    "articles = engine.search_articles(\"Dark Higg's Boson\")"
   ]
  },
  {
   "cell_type": "code",
   "execution_count": null,
   "metadata": {},
   "outputs": [],
   "source": [
    "articles"
   ]
  },
  {
   "cell_type": "code",
   "execution_count": null,
   "metadata": {},
   "outputs": [],
   "source": [
    "max([x['distance'] for x in y])"
   ]
  },
  {
   "cell_type": "code",
   "execution_count": null,
   "metadata": {},
   "outputs": [],
   "source": [
    "y = engine.search_authors(\"Higgs boson, who discover it\", top_k=3)"
   ]
  },
  {
   "cell_type": "code",
   "execution_count": null,
   "metadata": {},
   "outputs": [],
   "source": [
    "y"
   ]
  },
  {
   "cell_type": "code",
   "execution_count": null,
   "metadata": {},
   "outputs": [],
   "source": [
    "engine.get_author(106927)"
   ]
  },
  {
   "cell_type": "code",
   "execution_count": null,
   "metadata": {},
   "outputs": [],
   "source": [
    "def query_author(author_id: str):\n",
    "    \"\"\"Get author details from Milvus.\"\"\"\n",
    "\n",
    "    author = author_collection.query(\n",
    "        expr=f\"id == {author_id}\",\n",
    "        output_fields=[\"first_name\", \"last_name\", \"community_name\"],\n",
    "        limit=1,\n",
    "    )\n",
    "\n",
    "    if not author:\n",
    "        retur\n",
    "    \n",
    "    return author[0]"
   ]
  },
  {
   "cell_type": "code",
   "execution_count": null,
   "metadata": {},
   "outputs": [],
   "source": [
    "query_author(106927)"
   ]
  },
  {
   "cell_type": "markdown",
   "metadata": {},
   "source": [
    "## Ingest data\n",
    "\n",
    "Authors"
   ]
  },
  {
   "cell_type": "code",
   "execution_count": null,
   "metadata": {},
   "outputs": [],
   "source": [
    "AUTHORS_DIR"
   ]
  },
  {
   "cell_type": "code",
   "execution_count": null,
   "metadata": {},
   "outputs": [],
   "source": [
    "author_ids = [path.stem for path in AUTHORS_DIR.glob(\"*.json\")]\n",
    "\n",
    "# DEBUG\n",
    "# author_ids = author_ids[:100]\n",
    "\n",
    "# with Pool(8) as p:\n",
    "#     data_packages = p.map(make_author_data_package, author_ids)"
   ]
  },
  {
   "cell_type": "code",
   "execution_count": null,
   "metadata": {},
   "outputs": [],
   "source": [
    "push_data(author_ids[101])"
   ]
  },
  {
   "cell_type": "code",
   "execution_count": null,
   "metadata": {},
   "outputs": [],
   "source": [
    "tmp = make_articles_data_packages(author_ids[2026])"
   ]
  },
  {
   "cell_type": "code",
   "execution_count": null,
   "metadata": {},
   "outputs": [],
   "source": [
    "len(tmp)"
   ]
  },
  {
   "cell_type": "code",
   "execution_count": null,
   "metadata": {},
   "outputs": [],
   "source": [
    "author_collection.insert(data_packages)\n",
    "author_collection.flush()"
   ]
  },
  {
   "cell_type": "markdown",
   "metadata": {},
   "source": [
    "Articles"
   ]
  },
  {
   "cell_type": "code",
   "execution_count": null,
   "metadata": {},
   "outputs": [],
   "source": [
    "author_ids = [path.stem for path in AUTHORS_DIR.glob(\"*.json\")]\n",
    "author_ids = author_ids[:100]\n",
    "\n",
    "article_collection = Collection(\"articles\")\n",
    "for author_id in tqdm(author_ids):\n",
    "    data_packages = make_articles_data_packages(author_id)\n",
    "    article_collection.insert(data_packages)\n",
    "\n",
    "article_collection.flush()"
   ]
  },
  {
   "cell_type": "markdown",
   "metadata": {},
   "source": [
    "## Create Milvus index"
   ]
  },
  {
   "cell_type": "code",
   "execution_count": null,
   "metadata": {},
   "outputs": [],
   "source": [
    "index_params = {\n",
    "    \"metric_type\": \"IP\",  # inner product\n",
    "    \"index_type\": \"IVF_FLAT\",\n",
    "    \"params\": {\"nlist\": 1024},\n",
    "}"
   ]
  },
  {
   "cell_type": "code",
   "execution_count": null,
   "metadata": {},
   "outputs": [],
   "source": [
    "article_collection.create_index(\"embedding\", index_params)"
   ]
  },
  {
   "cell_type": "code",
   "execution_count": null,
   "metadata": {},
   "outputs": [],
   "source": [
    "author_collection.create_index(\"embedding\", index_params)"
   ]
  },
  {
   "cell_type": "code",
   "execution_count": null,
   "metadata": {},
   "outputs": [],
   "source": [
    "utility.index_building_progress(\"articles\")"
   ]
  },
  {
   "cell_type": "code",
   "execution_count": null,
   "metadata": {},
   "outputs": [],
   "source": [
    "utility.index_building_progress(\"authors\")"
   ]
  },
  {
   "cell_type": "markdown",
   "metadata": {},
   "source": [
    "## Load collection and test search"
   ]
  },
  {
   "cell_type": "code",
   "execution_count": null,
   "metadata": {},
   "outputs": [],
   "source": [
    "author_collection.load()"
   ]
  },
  {
   "cell_type": "code",
   "execution_count": null,
   "metadata": {},
   "outputs": [],
   "source": [
    "article_collection.load()"
   ]
  },
  {
   "cell_type": "code",
   "execution_count": null,
   "metadata": {},
   "outputs": [],
   "source": [
    "from langchain.embeddings import OpenAIEmbeddings\n",
    "\n",
    "embeddings = OpenAIEmbeddings()\n",
    "search_vector = embeddings.embed_query(\"Dark Higgs's boson\")"
   ]
  },
  {
   "cell_type": "code",
   "execution_count": null,
   "metadata": {},
   "outputs": [],
   "source": [
    "articles = article_collection.search(\n",
    "    data=[search_vector],\n",
    "    anns_field=\"embedding\",\n",
    "    param={\"metric_type\": \"IP\", \"params\": {\"nprobe\": 16}},\n",
    "    limit=10,\n",
    "    output_fields=[\"title\", \"author_id\", \"doi\"],\n",
    ")"
   ]
  },
  {
   "cell_type": "code",
   "execution_count": null,
   "metadata": {},
   "outputs": [],
   "source": [
    "authors = author_collection.query(\n",
    "    expr=\"id == 106927\",\n",
    "    offset=0,\n",
    "    limit=1,\n",
    "    output_fields=[\"id\", \"first_name\", \"last_name\", \"community_name\"],\n",
    ")"
   ]
  },
  {
   "cell_type": "code",
   "execution_count": null,
   "metadata": {},
   "outputs": [],
   "source": [
    "from typing import Any\n",
    "from langchain.embeddings import OpenAIEmbeddings\n",
    "from langchain.embeddings.base import Embeddings\n",
    "\n",
    "ARTICLE_COLLECTION = Collection(name=\"articles\")\n",
    "ARTICLE_COLLECTION.load()\n",
    "EMBEDDINGS = OpenAIEmbeddings()\n",
    "\n",
    "\n",
    "def search(\n",
    "    query: str,\n",
    "    output_fields: list,\n",
    "    top_k: int = 3,\n",
    "    distance_threshold: float = 0.2,\n",
    "    pow: float = 3.0,\n",
    ") -> list:\n",
    "    \"\"\"Search for articles by query.\"\"\"\n",
    "\n",
    "    # Embed query\n",
    "    search_vector = EMBEDDINGS.embed_query(query)\n",
    "    print(search_vector)\n",
    "\n",
    "    # Search in Milvus\n",
    "    search_params = {\"metric_type\": \"IP\", \"params\": {\"nprobe\": 16}}\n",
    "    articles = article_collection.search(\n",
    "        data=[search_vector],\n",
    "        anns_field=\"embedding\",\n",
    "        param=search_params,\n",
    "        limit=top_k,\n",
    "        output_fields=output_fields,\n",
    "    )\n",
    "\n",
    "    return articles.__dict__"
   ]
  },
  {
   "cell_type": "code",
   "execution_count": null,
   "metadata": {},
   "outputs": [],
   "source": [
    "r = search(\"galaxy far away\")"
   ]
  },
  {
   "cell_type": "code",
   "execution_count": null,
   "metadata": {},
   "outputs": [],
   "source": [
    "r[0][2].entity.get(\"author_id\")"
   ]
  },
  {
   "cell_type": "code",
   "execution_count": null,
   "metadata": {},
   "outputs": [],
   "source": [
    "from pymilvus.orm.search import SearchResults\n",
    "\n",
    "\n",
    "def _flatten_results(results: SearchResults) -> list[dict]:\n",
    "    \"\"\"Flatten Milvus search results.\"\"\"\n",
    "\n",
    "    return [\n",
    "        {\n",
    "            \"ids\": result.ids,\n",
    "            \"distances\": result.distances,\n",
    "            \"scores\": result.scores,\n",
    "        }\n",
    "        for result in results[0]\n",
    "    ]"
   ]
  },
  {
   "cell_type": "code",
   "execution_count": null,
   "metadata": {},
   "outputs": [],
   "source": [
    "r.on_result()"
   ]
  },
  {
   "cell_type": "code",
   "execution_count": null,
   "metadata": {},
   "outputs": [],
   "source": [
    "type(r)"
   ]
  },
  {
   "cell_type": "code",
   "execution_count": null,
   "metadata": {},
   "outputs": [],
   "source": [
    "r[0][0].__dict__"
   ]
  },
  {
   "cell_type": "code",
   "execution_count": null,
   "metadata": {},
   "outputs": [],
   "source": [
    "for x in r[0]:\n",
    "    print(type(x))"
   ]
  },
  {
   "cell_type": "code",
   "execution_count": null,
   "metadata": {},
   "outputs": [],
   "source": [
    "def search_with_emb"
   ]
  },
  {
   "cell_type": "code",
   "execution_count": null,
   "metadata": {},
   "outputs": [],
   "source": [
    "articles[0][0]"
   ]
  },
  {
   "cell_type": "markdown",
   "metadata": {},
   "source": [
    "Get only the title"
   ]
  },
  {
   "cell_type": "code",
   "execution_count": null,
   "metadata": {},
   "outputs": [],
   "source": [
    "articles[0][0].entity.get(\"title\")"
   ]
  },
  {
   "cell_type": "markdown",
   "metadata": {},
   "source": [
    "## Drop collection"
   ]
  },
  {
   "cell_type": "code",
   "execution_count": null,
   "metadata": {},
   "outputs": [],
   "source": [
    "utility.list_collections()"
   ]
  },
  {
   "cell_type": "code",
   "execution_count": null,
   "metadata": {},
   "outputs": [],
   "source": [
    "# utility.drop_collection(\"articles\")"
   ]
  },
  {
   "cell_type": "markdown",
   "metadata": {},
   "source": [
    "# Dev"
   ]
  },
  {
   "cell_type": "code",
   "execution_count": null,
   "metadata": {},
   "outputs": [],
   "source": [
    "def search(\n",
    "    query: str,\n",
    "    top_k: int,\n",
    "    n: int = 1000,\n",
    "    distance_threshold: float = 0.2,\n",
    "    pow: float = 3.0,\n",
    ") -> list:\n",
    "    \"\"\"Search for author by a query.\n",
    "    \n",
    "    Each author is given by a score, defined as:\n",
    "    $$ S_j = \\sum_{i=1}^n (1 - d_{i,j})^p $$\n",
    "\n",
    "    where $d_{i,j}$ is the distance between the query and the $i$-th article of the $j$-th author.\n",
    "    The value $d$ is also clipped by the `distance_threshold` $t$, i.e.,\n",
    "\n",
    "    $$\n",
    "    d = \n",
    "    \\begin{cases} \n",
    "    d & \\text{if } d \\leq t \\\\\n",
    "    1 & \\text{if } d > t \n",
    "    \\end{cases}\n",
    "    $$\n",
    "\n",
    "    Args:\n",
    "        query (str): Query string.\n",
    "        top_k (int, optional): Number of authors to return. \n",
    "        n (int, optional): Number of articles $n$ in the weighting pool. Defaults to 1000.\n",
    "        distance_threshold (float, optional): Distance threshold. Defaults to 0.2.\n",
    "        pow (float, optional): Power in weighting function $p$. Defaults to 3.0.\n",
    "    \n",
    "    \"\"\"\n",
    "\n",
    "    search_vector = cached_resources[\"embeddings\"].embed_query(query)\n",
    "    logging.debug(search_vector)\n",
    "\n",
    "    search_params = {\"metric_type\": \"IP\", \"params\": {\"nprobe\": 16}}\n",
    "    results = cached_resources[\"article_collection\"].search(\n",
    "        data=[search_vector],\n",
    "        anns_field=\"embedding\",\n",
    "        param=search_params,\n",
    "        limit=top_k,\n",
    "        output_fields=[\"title\", \"author_id\"],\n",
    "    )\n",
    "\n",
    "    def _flatten(result) -> dict:\n",
    "        \"\"\"Flatten a result.\"\"\"\n",
    "\n",
    "        flat_result = {}\n",
    "        entity = result.entity\n",
    "        flat_result[\"distance\"] = result.distance\n",
    "        for key, value in entity.items():\n",
    "            flat_result[key] = value\n",
    "        return flat_result\n",
    "\n",
    "    # Flatten and filter by distance threshold\n",
    "    results = [\n",
    "        _flatten(result)\n",
    "        for result in results[0]\n",
    "        if result.distance < distance_threshold\n",
    "    ]\n",
    "\n",
    "    # Calculate author scores = Sum((1-distance) ** pow)\n",
    "\n",
    "    author_scores: dict[str, float] = {}\n",
    "    for result in results:\n",
    "        author_id = result[author_id]\n",
    "        weight = (1 - result[\"distance\"]) ** pow\n",
    "        result[\"weight\"] = weight\n",
    "        author_scores[author_id] = author_scores.get(author_id, 0) + weight\n",
    "\n",
    "    logging.debug(author_scores)\n",
    "    top_ids = sort_key_by_value(author_scores, reversed=True)[:top_k]\n",
    "\n",
    "    return top_ids"
   ]
  },
  {
   "cell_type": "code",
   "execution_count": null,
   "metadata": {},
   "outputs": [],
   "source": [
    "search(\"black hole\", 3)"
   ]
  }
 ],
 "metadata": {
  "kernelspec": {
   "display_name": "Python 3",
   "language": "python",
   "name": "python3"
  },
  "language_info": {
   "codemirror_mode": {
    "name": "ipython",
    "version": 3
   },
   "file_extension": ".py",
   "mimetype": "text/x-python",
   "name": "python",
   "nbconvert_exporter": "python",
   "pygments_lexer": "ipython3",
   "version": "3.10.12"
  },
  "orig_nbformat": 4
 },
 "nbformat": 4,
 "nbformat_minor": 2
}
