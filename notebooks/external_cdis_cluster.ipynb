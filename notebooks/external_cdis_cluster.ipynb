{
 "cells": [
  {
   "cell_type": "markdown",
   "metadata": {},
   "source": [
    "# CDIS pod topic exploration\n",
    "\n",
    "This notebook explores the research interests of all faculty members in the School of Computer, Data & Information Sciences (CDIS).\n",
    "\n",
    "Data source: [Academic Analytics API](https://wisc.discovery.academicanalytics.com/)\n",
    "\n",
    "Authors: [Jason Lo](https://datascience.wisc.edu/staff/lo-jason/) and [Kyle Cranmer](https://datascience.wisc.edu/staff/cranmer-kyle/)\n",
    "\n",
    "Version: 3\n",
    "\n",
    "Date: 2024-01-30\n",
    "\n",
    "Objectives:\n",
    "\n",
    "1. Explore the research interests of all faculty members in CDIS.\n",
    "2. Potentially identify research topics that are of interest to multiple faculty members across all departments in CDIS.\n",
    "\n",
    "Departments in CDIS:\n",
    "\n",
    "- Department of Computer Sciences\n",
    "- Department of Statistics\n",
    "- Department of Biostatistics and Medical Informatics\n",
    "- Information School\n",
    "\n",
    "Procedure:\n",
    "\n",
    "1. Retrieve faculty data from CDIS via Academic Analytics API.\n",
    "2. Fetch research outputs for each faculty member from the same API.\n",
    "3. Use OpenAI embeddings to convert research output titles into vectors.\n",
    "4. Apply k-means clustering to these vectors.\n",
    "5. Utilize GPT for naming clusters based on publication titles.\n",
    "6. Create visual representations of the results.\n",
    "\n",
    "For simplicity, implementation details in step 1-5 is omitted in this notebook. If you are interested in the implementation details, please refer to the [source code](https://github.com/UW-Madison-DSI/faculty-search/blob/122ecca93a9a65414645a84d04d29f2419c9e711/notebooks/proto_cdis_cluster.ipynb)."
   ]
  },
  {
   "cell_type": "code",
   "execution_count": null,
   "metadata": {},
   "outputs": [],
   "source": [
    "import pickle\n",
    "import pandas as pd\n",
    "from embedding_search.experimental.cdis import ClusterExplore\n",
    "\n",
    "pd.set_option(\"display.max_rows\", None)\n",
    "pd.set_option(\"display.max_columns\", None)"
   ]
  },
  {
   "cell_type": "code",
   "execution_count": null,
   "metadata": {},
   "outputs": [],
   "source": [
    "# Load data from preprocessed files.\n",
    "df = pd.read_parquet(\"data/cdis_clustering.parquet\")\n",
    "with open(\"data/cdis_embeddings.pkl\", \"rb\") as f:\n",
    "    embeddings = pickle.load(f)"
   ]
  },
  {
   "cell_type": "code",
   "execution_count": null,
   "metadata": {},
   "outputs": [],
   "source": [
    "# Convenient function to get cluster name\n",
    "def get_cluster_name(cluster: int) -> str:\n",
    "    return df.query(f\"cluster == {cluster}\")[\"label\"].iloc[0]"
   ]
  },
  {
   "cell_type": "markdown",
   "metadata": {},
   "source": [
    "### Visualizing research topics"
   ]
  },
  {
   "cell_type": "code",
   "execution_count": null,
   "metadata": {},
   "outputs": [],
   "source": [
    "experiment = ClusterExplore(embeddings, df, n_clusters=18)\n",
    "experiment.plot()"
   ]
  },
  {
   "cell_type": "markdown",
   "metadata": {},
   "source": [
    "Note. By clicking on a point in the plot, you can select a cluster, which will update the information in the bottom panel. "
   ]
  },
  {
   "cell_type": "markdown",
   "metadata": {},
   "source": [
    "### Faculty distribution in each cluster (by department)"
   ]
  },
  {
   "cell_type": "code",
   "execution_count": null,
   "metadata": {},
   "outputs": [],
   "source": [
    "count_unique_faculty = (\n",
    "    experiment.df.groupby([\"cluster\", \"label\", \"department\"])\n",
    "    .agg(n_faculty=(\"name\", \"nunique\"))\n",
    "    .reset_index()\n",
    ")\n",
    "count_unique_faculty.pivot_table(\n",
    "    index=[\"cluster\", \"label\"], columns=\"department\", values=\"n_faculty\", fill_value=0\n",
    ")"
   ]
  },
  {
   "cell_type": "markdown",
   "metadata": {},
   "source": [
    "### Faculty publication count in each cluster (by department)"
   ]
  },
  {
   "cell_type": "code",
   "execution_count": null,
   "metadata": {},
   "outputs": [],
   "source": [
    "count_unique_publications = (\n",
    "    experiment.df.groupby([\"cluster\", \"label\", \"department\", \"name\"])\n",
    "    .agg(n_publications=(\"title\", \"nunique\"))\n",
    "    .reset_index()\n",
    ")"
   ]
  },
  {
   "cell_type": "code",
   "execution_count": null,
   "metadata": {},
   "outputs": [],
   "source": [
    "publication_count = count_unique_publications.pivot_table(\n",
    "    index=[\"department\", \"name\"],\n",
    "    columns=\"cluster\",\n",
    "    values=\"n_publications\",\n",
    "    fill_value=0,\n",
    ")\n",
    "\n",
    "publication_count"
   ]
  },
  {
   "cell_type": "markdown",
   "metadata": {},
   "source": [
    "### Normalized faculty publication count (by row) in each cluster (by department)"
   ]
  },
  {
   "cell_type": "code",
   "execution_count": null,
   "metadata": {},
   "outputs": [],
   "source": [
    "normalized_publication_count = publication_count.apply(\n",
    "    lambda x: x / x.sum(), axis=1\n",
    ").round(2)\n",
    "\n",
    "normalized_publication_count"
   ]
  },
  {
   "cell_type": "markdown",
   "metadata": {},
   "source": [
    "### Group authors into clusters based on their most significant category, determined by the normalized value."
   ]
  },
  {
   "cell_type": "code",
   "execution_count": null,
   "metadata": {},
   "outputs": [],
   "source": [
    "# Author to cluster mapping\n",
    "author_cluster_map = normalized_publication_count.idxmax(axis=1).to_dict()\n",
    "\n",
    "# Inverting the mapping\n",
    "cluster_author_map = {}\n",
    "for k, v in author_cluster_map.items():\n",
    "    if v not in cluster_author_map:\n",
    "        cluster_author_map[v] = [k]\n",
    "    else:\n",
    "        cluster_author_map[v] += [k]\n",
    "\n",
    "clusters_with_someone = sorted(cluster_author_map.keys())\n",
    "\n",
    "for i in clusters_with_someone:\n",
    "    print(f\"cluster {i}: {get_cluster_name(i)}\")\n",
    "    print(f\"Faculties: {cluster_author_map[i]}\")\n",
    "    print()"
   ]
  }
 ],
 "metadata": {
  "kernelspec": {
   "display_name": "Python 3",
   "language": "python",
   "name": "python3"
  },
  "language_info": {
   "codemirror_mode": {
    "name": "ipython",
    "version": 3
   },
   "file_extension": ".py",
   "mimetype": "text/x-python",
   "name": "python",
   "nbconvert_exporter": "python",
   "pygments_lexer": "ipython3",
   "version": "3.10.12"
  }
 },
 "nbformat": 4,
 "nbformat_minor": 2
}
