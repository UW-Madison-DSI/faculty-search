{
 "cells": [
  {
   "cell_type": "markdown",
   "metadata": {},
   "source": [
    "# Examine the live A/B test results"
   ]
  },
  {
   "cell_type": "code",
   "execution_count": null,
   "metadata": {},
   "outputs": [],
   "source": [
    "import pandas as pd\n",
    "import requests\n",
    "\n",
    "URL = \"https://dev.discover.datascience.wisc.edu/api/votes\"\n",
    "response = requests.get(URL, verify=False)\n",
    "df = pd.DataFrame.from_records(response.json())\n",
    "df[\"created_at\"] = pd.to_datetime(df[\"created_at\"])\n",
    "df[\"score\"] = df.vote.apply(lambda x: 1 if x == \"up\" else -1)\n",
    "df.head()"
   ]
  },
  {
   "cell_type": "markdown",
   "metadata": {},
   "source": [
    "### Calculate up vote rate for each setting"
   ]
  },
  {
   "cell_type": "code",
   "execution_count": null,
   "metadata": {},
   "outputs": [],
   "source": [
    "hyperparameters = [\"ka\", \"kr\"]\n",
    "df.query(\n",
    "    \"kind == 'text' & (created_at < '2023-09-30') & (created_at > '2023-08-01')\"\n",
    ").groupby(hyperparameters).score.mean()"
   ]
  }
 ],
 "metadata": {
  "kernelspec": {
   "display_name": "Python 3",
   "language": "python",
   "name": "python3"
  },
  "language_info": {
   "codemirror_mode": {
    "name": "ipython",
    "version": 3
   },
   "file_extension": ".py",
   "mimetype": "text/x-python",
   "name": "python",
   "nbconvert_exporter": "python",
   "pygments_lexer": "ipython3",
   "version": "3.10.12"
  },
  "orig_nbformat": 4
 },
 "nbformat": 4,
 "nbformat_minor": 2
}
