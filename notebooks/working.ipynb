{
 "cells": [
  {
   "cell_type": "markdown",
   "metadata": {},
   "source": [
    "Evaluate the differences and Academic Analytic API and the Google Scholar API."
   ]
  },
  {
   "cell_type": "code",
   "execution_count": null,
   "metadata": {},
   "outputs": [],
   "source": [
    "import requests\n",
    "import os\n",
    "\n",
    "import json\n",
    "from dotenv import load_dotenv"
   ]
  },
  {
   "cell_type": "code",
   "execution_count": null,
   "metadata": {},
   "outputs": [],
   "source": [
    "damon_aa_id = 279865\n",
    "damon_scholar_id = \"MS85p6QAAAAJ\"\n",
    "damon_orcid = \"0000-0003-3436-3718\""
   ]
  },
  {
   "cell_type": "markdown",
   "metadata": {},
   "source": [
    "## AA"
   ]
  },
  {
   "cell_type": "code",
   "execution_count": null,
   "metadata": {},
   "outputs": [],
   "source": [
    "def get_author(id: int) -> dict:\n",
    "    \"\"\"Get an author from the academic analytics API.\"\"\"\n",
    "\n",
    "    url = f\"https://wisc.discovery.academicanalytics.com/api/people/{id}\"\n",
    "    response = requests.get(url)\n",
    "    response.raise_for_status()\n",
    "    return response.json()"
   ]
  },
  {
   "cell_type": "code",
   "execution_count": null,
   "metadata": {},
   "outputs": [],
   "source": [
    "record_aa = get_author(damon_aa_id)\n",
    "dois_aa = [r[\"digitalObjectIdentifier\"] for r in record_aa[\"articles\"]]\n",
    "dois_aa = [r for r in dois_aa if r is not None]"
   ]
  },
  {
   "cell_type": "code",
   "execution_count": null,
   "metadata": {},
   "outputs": [],
   "source": [
    "print(f\"AA: {record_aa['firstName']} {record_aa['lastName']}\")\n",
    "print(f\"AA: Total number of articles with dois: {len(dois_aa)}\")"
   ]
  },
  {
   "cell_type": "markdown",
   "metadata": {},
   "source": [
    "## Scholar (via SERP)"
   ]
  },
  {
   "cell_type": "code",
   "execution_count": null,
   "metadata": {},
   "outputs": [],
   "source": [
    "load_dotenv()\n",
    "SERP_API_KEY = os.getenv(\"SERP_API_KEY\")"
   ]
  },
  {
   "cell_type": "code",
   "execution_count": null,
   "metadata": {},
   "outputs": [],
   "source": [
    "data = {\n",
    "    \"engine\": \"google_scholar_author\",\n",
    "    \"author_id\": damon_scholar_id,\n",
    "    \"api_key\": SERP_API_KEY,\n",
    "    \"num\": 100,\n",
    "}\n",
    "\n",
    "response = requests.get(\"https://serpapi.com/search\", params=data)\n",
    "\n",
    "results = response.json()"
   ]
  },
  {
   "cell_type": "code",
   "execution_count": null,
   "metadata": {},
   "outputs": [],
   "source": [
    "with open(f\"tmp/serp/{damon_scholar_id}_0.json\", \"w\") as f:\n",
    "    json.dump(response.json(), f, indent=2)"
   ]
  },
  {
   "cell_type": "markdown",
   "metadata": {},
   "source": [
    "Download other pages"
   ]
  },
  {
   "cell_type": "code",
   "execution_count": null,
   "metadata": {},
   "outputs": [],
   "source": [
    "i = 1\n",
    "next_page = results[\"serpapi_pagination\"][\"next\"]\n",
    "while next_page is not None:\n",
    "    print(next_page)\n",
    "\n",
    "    next_page += f\"&api_key={SERP_API_KEY}\"\n",
    "    response = requests.get(next_page)\n",
    "    results = response.json()\n",
    "    with open(f\"tmp/serp/{damon_scholar_id}_{i}.json\", \"a\") as f:\n",
    "        json.dump(results, f, indent=2)\n",
    "\n",
    "    try:\n",
    "        next_page = results[\"serpapi_pagination\"][\"next\"]\n",
    "        i += 1\n",
    "    except KeyError:\n",
    "        next_page = None"
   ]
  },
  {
   "cell_type": "markdown",
   "metadata": {},
   "source": [
    "There are 700+ articles from scholar"
   ]
  },
  {
   "cell_type": "code",
   "execution_count": null,
   "metadata": {},
   "outputs": [],
   "source": [
    "results"
   ]
  },
  {
   "cell_type": "markdown",
   "metadata": {},
   "source": [
    "## ORCID"
   ]
  },
  {
   "cell_type": "markdown",
   "metadata": {},
   "source": [
    "ORCID\n",
    "https://orcid.org/0000-0003-3436-3718\n",
    "\n",
    "has 54 works, 43 has proper dois"
   ]
  },
  {
   "cell_type": "code",
   "execution_count": null,
   "metadata": {},
   "outputs": [],
   "source": [
    "from functools import cache\n",
    "\n",
    "\n",
    "@cache\n",
    "def get_oauth_token() -> str:\n",
    "    \"\"\"Get an OAuth token from ORCID.\"\"\"\n",
    "\n",
    "    client_id = os.getenv(\"ORCID_CLIENT_ID\")\n",
    "    client_secret = os.getenv(\"ORCID_CLIENT_SECRET\")\n",
    "\n",
    "    response = requests.post(\n",
    "        \"https://orcid.org/oauth/token\",\n",
    "        headers={\"Accept\": \"application/json\"},\n",
    "        data={\n",
    "            \"client_id\": client_id,\n",
    "            \"client_secret\": client_secret,\n",
    "            \"grant_type\": \"client_credentials\",\n",
    "            \"scope\": \"/read-public\",\n",
    "        },\n",
    "    )\n",
    "\n",
    "    if response.status_code != 200:\n",
    "        raise Exception(\"Unable to get OAuth token from ORCID.\")\n",
    "\n",
    "    return response.json()[\"access_token\"]"
   ]
  },
  {
   "cell_type": "code",
   "execution_count": null,
   "metadata": {},
   "outputs": [],
   "source": [
    "def pull(path: str) -> dict:\n",
    "    \"\"\"Pull data from ORCID.\"\"\"\n",
    "\n",
    "    token = get_oauth_token()\n",
    "    response = requests.get(\n",
    "        f\"https://pub.orcid.org/v3.0/{path}\",\n",
    "        headers={\n",
    "            \"Accept\": \"application/json\",\n",
    "            \"Authorization\": f\"Bearer {token}\",\n",
    "        },\n",
    "    )\n",
    "    if response.status_code != 200:\n",
    "        raise Exception(f\"Unable to get {path} from ORCID.\")\n",
    "    return response.json()"
   ]
  },
  {
   "cell_type": "code",
   "execution_count": null,
   "metadata": {},
   "outputs": [],
   "source": [
    "results = pull(f\"{damon_orcid}/works\")"
   ]
  },
  {
   "cell_type": "code",
   "execution_count": null,
   "metadata": {},
   "outputs": [],
   "source": [
    "from typing import Optional\n",
    "from pydantic import BaseModel, validator\n",
    "\n",
    "\n",
    "class Article(BaseModel):\n",
    "    author_id: Optional[str] = None\n",
    "    doi: Optional[str] = None\n",
    "    publication_year: Optional[int] = None\n",
    "    title: Optional[str] = None\n",
    "    abstract: Optional[str] = None\n",
    "    cited_by: Optional[int] = None\n",
    "\n",
    "    @property\n",
    "    def text(self) -> str:\n",
    "        \"\"\"Text to embed.\"\"\"\n",
    "\n",
    "        if not self.title and not self.abstract:\n",
    "            raise ValueError(\"No text to embed.\")\n",
    "\n",
    "        text = \"\"\n",
    "        if self.title:\n",
    "            text += self.title\n",
    "\n",
    "        if self.abstract:\n",
    "            text += \" \" + self.abstract\n",
    "\n",
    "        return text\n",
    "\n",
    "\n",
    "class ORCIDWorkParser:\n",
    "    \"\"\"Parse the raw JSON from ORCID into a list of Article objects.\"\"\"\n",
    "\n",
    "    def parse(self, works: dict) -> list[Article]:\n",
    "        work_summaries = [w[\"work-summary\"][0] for w in works[\"group\"]]\n",
    "\n",
    "        outputs = []\n",
    "        for work_summary in work_summaries:\n",
    "            if work_summary[\"type\"] == \"journal-article\":\n",
    "                article = self.parse_summary(work_summary)\n",
    "                outputs.append(article)\n",
    "        return outputs\n",
    "\n",
    "    def parse_summary(self, work_summary: dict) -> Article:\n",
    "        return Article(\n",
    "            orcid_path=self._get_orcid_path(work_summary),\n",
    "            doi=self._get_doi(work_summary),\n",
    "            title=self._get_title(work_summary),\n",
    "            url=self._get_url(work_summary),\n",
    "            publication_year=self._get_publication_year(work_summary),\n",
    "        )\n",
    "\n",
    "    @staticmethod\n",
    "    def _get_orcid_path(work_summary):\n",
    "        return work_summary[\"path\"]\n",
    "\n",
    "    @staticmethod\n",
    "    def _get_doi(work_summary) -> str:\n",
    "        if work_summary[\"external-ids\"] is None:\n",
    "            return None\n",
    "\n",
    "        external_ids = work_summary[\"external-ids\"][\"external-id\"]\n",
    "        ext_doi = [\n",
    "            external_id\n",
    "            for external_id in external_ids\n",
    "            if external_id[\"external-id-type\"] == \"doi\"\n",
    "        ]\n",
    "        if len(ext_doi) == 0:\n",
    "            return None\n",
    "\n",
    "        ext_doi = ext_doi[0]  # There should only be one DOI\n",
    "\n",
    "        try:\n",
    "            return ext_doi[\"external-id-normalized\"][\"value\"]\n",
    "        except KeyError:\n",
    "            return ext_doi[\"external-id-value\"]\n",
    "\n",
    "    @staticmethod\n",
    "    def _get_title(work_summary):\n",
    "        return work_summary[\"title\"][\"title\"][\"value\"]\n",
    "\n",
    "    @staticmethod\n",
    "    def _get_url(work_summary):\n",
    "        if work_summary[\"url\"] is None:\n",
    "            return None\n",
    "        return work_summary[\"url\"][\"value\"]\n",
    "\n",
    "    @staticmethod\n",
    "    def _get_publication_year(work_summary):\n",
    "        pub_date = work_summary[\"publication-date\"]\n",
    "\n",
    "        try:\n",
    "            year = pub_date[\"year\"][\"value\"]\n",
    "        except (KeyError, TypeError):\n",
    "            return None\n",
    "        return int(year)"
   ]
  },
  {
   "cell_type": "code",
   "execution_count": null,
   "metadata": {},
   "outputs": [],
   "source": [
    "work_parser = ORCIDWorkParser()\n",
    "articles = work_parser.parse(results)"
   ]
  },
  {
   "cell_type": "code",
   "execution_count": null,
   "metadata": {},
   "outputs": [],
   "source": [
    "len(articles)"
   ]
  }
 ],
 "metadata": {
  "kernelspec": {
   "display_name": "Python 3",
   "language": "python",
   "name": "python3"
  },
  "language_info": {
   "codemirror_mode": {
    "name": "ipython",
    "version": 3
   },
   "file_extension": ".py",
   "mimetype": "text/x-python",
   "name": "python",
   "nbconvert_exporter": "python",
   "pygments_lexer": "ipython3",
   "version": "3.10.12"
  },
  "orig_nbformat": 4
 },
 "nbformat": 4,
 "nbformat_minor": 2
}
