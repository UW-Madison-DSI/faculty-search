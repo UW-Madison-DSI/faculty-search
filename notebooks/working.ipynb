{
 "cells": [
  {
   "attachments": {},
   "cell_type": "markdown",
   "metadata": {},
   "source": [
    "# Add paper\n",
    "Get papers by ORCID and create a new dataframe"
   ]
  },
  {
   "cell_type": "code",
   "execution_count": 1,
   "metadata": {},
   "outputs": [],
   "source": [
    "from orcid import get_works\n",
    "\n",
    "works = get_works(orcid=\"0000-0002-5769-7094\")"
   ]
  },
  {
   "cell_type": "code",
   "execution_count": 4,
   "metadata": {},
   "outputs": [
    {
     "data": {
      "text/plain": [
       "Article(orcid_path='/0000-0002-5769-7094/work/136042643', doi='10.1140/epjc/s10052-023-11436-8', title='Measurement of the total cross section and $\\\\rho $-parameter from elastic scattering in pp collisions at $\\\\sqrt{s}=13$\\xa0TeV with the ATLAS detector', url='http://inspirehep.net/record/2122408', publication_year=2023)"
      ]
     },
     "execution_count": 4,
     "metadata": {},
     "output_type": "execute_result"
    }
   ],
   "source": [
    "works[0]"
   ]
  }
 ],
 "metadata": {
  "kernelspec": {
   "display_name": "Python 3",
   "language": "python",
   "name": "python3"
  },
  "language_info": {
   "codemirror_mode": {
    "name": "ipython",
    "version": 3
   },
   "file_extension": ".py",
   "mimetype": "text/x-python",
   "name": "python",
   "nbconvert_exporter": "python",
   "pygments_lexer": "ipython3",
   "version": "3.11.3"
  },
  "orig_nbformat": 4
 },
 "nbformat": 4,
 "nbformat_minor": 2
}
