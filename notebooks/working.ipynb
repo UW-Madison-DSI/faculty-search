{
 "cells": [
  {
   "cell_type": "code",
   "execution_count": null,
   "metadata": {},
   "outputs": [],
   "source": [
    "from embedding_search.academic_analytics import get_units\n",
    "from api.core import get_author_by_id, Engine\n",
    "from embedding_search.vector_store import connect_milvus\n",
    "from pymilvus import Collection\n",
    "from langchain.embeddings import OpenAIEmbeddings"
   ]
  },
  {
   "cell_type": "code",
   "execution_count": null,
   "metadata": {},
   "outputs": [],
   "source": [
    "def get_default_engine():\n",
    "    \"\"\"Get a default engine with default collections.\"\"\"\n",
    "\n",
    "    connect_milvus()\n",
    "\n",
    "    author_collection = Collection(\"authors\")\n",
    "    article_collection = Collection(\"articles\")\n",
    "    embeddings = OpenAIEmbeddings()\n",
    "\n",
    "    return Engine(author_collection, article_collection, embeddings)"
   ]
  },
  {
   "cell_type": "code",
   "execution_count": null,
   "metadata": {},
   "outputs": [],
   "source": [
    "engine = get_default_engine()"
   ]
  },
  {
   "cell_type": "code",
   "execution_count": null,
   "metadata": {},
   "outputs": [],
   "source": [
    "y1 = engine.search_authors(\"mushroom and farming\", top_k=3)\n",
    "y1"
   ]
  },
  {
   "cell_type": "code",
   "execution_count": null,
   "metadata": {},
   "outputs": [],
   "source": [
    "y2 = engine.search_authors(\"mushroom and farming\", top_k=3, filter_unit=\"28626\")\n",
    "y2"
   ]
  }
 ],
 "metadata": {
  "kernelspec": {
   "display_name": "Python 3",
   "language": "python",
   "name": "python3"
  },
  "language_info": {
   "codemirror_mode": {
    "name": "ipython",
    "version": 3
   },
   "file_extension": ".py",
   "mimetype": "text/x-python",
   "name": "python",
   "nbconvert_exporter": "python",
   "pygments_lexer": "ipython3",
   "version": "3.10.12"
  },
  "orig_nbformat": 4
 },
 "nbformat": 4,
 "nbformat_minor": 2
}
