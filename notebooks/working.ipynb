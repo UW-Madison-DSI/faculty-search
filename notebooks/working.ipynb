{
 "cells": [
  {
   "attachments": {},
   "cell_type": "markdown",
   "metadata": {},
   "source": [
    "# Add paper\n",
    "Get papers by ORCID and create a new dataframe"
   ]
  },
  {
   "cell_type": "code",
   "execution_count": null,
   "metadata": {},
   "outputs": [],
   "source": [
    "from orcid import get_works\n",
    "from data import get_abstract, to_plain_text\n",
    "from tqdm import tqdm"
   ]
  },
  {
   "cell_type": "code",
   "execution_count": null,
   "metadata": {},
   "outputs": [],
   "source": [
    "# Get ORCID works\n",
    "works = get_works(orcid=\"0000-0002-5769-7094\")"
   ]
  },
  {
   "cell_type": "code",
   "execution_count": null,
   "metadata": {},
   "outputs": [],
   "source": [
    "# Get abstracts from Crossref (testing)\n",
    "\n",
    "for work in tqdm(works[:10]):\n",
    "    if work.doi is None:\n",
    "        continue\n",
    "\n",
    "    # Check if abstract is already present or not\n",
    "    if \"abstract\" not in work.__dict__:\n",
    "        work.raw_abstract = get_abstract(work.doi)\n",
    "        work.abstract = to_plain_text(work.raw_abstract)"
   ]
  },
  {
   "cell_type": "code",
   "execution_count": null,
   "metadata": {},
   "outputs": [],
   "source": [
    "for work in works[:10]:\n",
    "    print(work.title)\n",
    "    print()\n",
    "    print(work.abstract)\n",
    "    print(\"-\" * 80)"
   ]
  }
 ],
 "metadata": {
  "kernelspec": {
   "display_name": "Python 3",
   "language": "python",
   "name": "python3"
  },
  "language_info": {
   "codemirror_mode": {
    "name": "ipython",
    "version": 3
   },
   "file_extension": ".py",
   "mimetype": "text/x-python",
   "name": "python",
   "nbconvert_exporter": "python",
   "pygments_lexer": "ipython3",
   "version": "3.11.3"
  },
  "orig_nbformat": 4
 },
 "nbformat": 4,
 "nbformat_minor": 2
}
