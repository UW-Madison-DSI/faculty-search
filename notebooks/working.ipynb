{
 "cells": [
  {
   "cell_type": "code",
   "execution_count": null,
   "metadata": {},
   "outputs": [],
   "source": [
    "from embedding_search.data_model import Author\n",
    "\n",
    "author = Author.load(\"authors/0000-0002-4914-6671.json\")\n",
    "print(author)"
   ]
  },
  {
   "cell_type": "code",
   "execution_count": null,
   "metadata": {},
   "outputs": [],
   "source": [
    "len(author.articles)"
   ]
  },
  {
   "cell_type": "code",
   "execution_count": null,
   "metadata": {},
   "outputs": [],
   "source": [
    "len(author.articles_embeddings)"
   ]
  },
  {
   "cell_type": "code",
   "execution_count": null,
   "metadata": {},
   "outputs": [],
   "source": [
    "from embedding_search.vector_store import MiniStore\n",
    "\n",
    "s = MiniStore()"
   ]
  },
  {
   "cell_type": "code",
   "execution_count": null,
   "metadata": {},
   "outputs": [],
   "source": [
    "s.add_author(author)"
   ]
  },
  {
   "cell_type": "code",
   "execution_count": null,
   "metadata": {},
   "outputs": [],
   "source": [
    "s.metadata"
   ]
  },
  {
   "cell_type": "code",
   "execution_count": null,
   "metadata": {},
   "outputs": [],
   "source": [
    "s.add_author"
   ]
  },
  {
   "cell_type": "code",
   "execution_count": null,
   "metadata": {},
   "outputs": [],
   "source": [
    "import embedding_search"
   ]
  },
  {
   "cell_type": "code",
   "execution_count": null,
   "metadata": {},
   "outputs": [],
   "source": [
    "embedding_search.data_model.Author"
   ]
  },
  {
   "cell_type": "code",
   "execution_count": null,
   "metadata": {},
   "outputs": [],
   "source": [
    "embedding_search.data_model.Author"
   ]
  },
  {
   "cell_type": "code",
   "execution_count": null,
   "metadata": {},
   "outputs": [],
   "source": [
    "from pathlib import Path\n",
    "from embedding_search.orcid import Author\n",
    "import numpy as np\n",
    "import os\n",
    "\n",
    "AUTHORS_DIR = Path(\"authors/\")\n",
    "\n",
    "metadatas = []\n",
    "author_pickles = AUTHORS_DIR.glob(\"*.pickle\")\n",
    "for author_pickle in author_pickles:\n",
    "    author = Author.load(author_pickle)\n",
    "    embeddings = np.array(author.articles_embeddings, dtype=np.float32)"
   ]
  },
  {
   "cell_type": "code",
   "execution_count": null,
   "metadata": {},
   "outputs": [],
   "source": [
    "author_pickles = AUTHORS_DIR.glob(\"*.pickle\")\n",
    "n = 0\n",
    "for author_pickle in author_pickles:\n",
    "    author = Author.load(author_pickle)\n",
    "    n += len(author.articles_embeddings)\n",
    "    print(\n",
    "        f\"Author: {author.first_name} {author.last_name} <{author.orcid}> ({len(author.articles_embeddings)} articles)\"\n",
    "    )"
   ]
  },
  {
   "cell_type": "code",
   "execution_count": null,
   "metadata": {},
   "outputs": [],
   "source": [
    "doc_store.__dict__"
   ]
  },
  {
   "cell_type": "code",
   "execution_count": null,
   "metadata": {},
   "outputs": [],
   "source": [
    "doc_store.add_texts()"
   ]
  },
  {
   "cell_type": "code",
   "execution_count": null,
   "metadata": {},
   "outputs": [],
   "source": [
    "doc_store.index.get_item_vector(0)"
   ]
  },
  {
   "cell_type": "code",
   "execution_count": null,
   "metadata": {},
   "outputs": [],
   "source": [
    "doc_store.index_to_docstore_id[0]"
   ]
  },
  {
   "cell_type": "code",
   "execution_count": null,
   "metadata": {},
   "outputs": [],
   "source": [
    "doc_store.docstore._dict[\"710c0b72-b5b0-4bce-8f9c-0c879fc50c75\"]"
   ]
  },
  {
   "attachments": {},
   "cell_type": "markdown",
   "metadata": {},
   "source": [
    "# Network graph"
   ]
  },
  {
   "cell_type": "code",
   "execution_count": null,
   "metadata": {},
   "outputs": [],
   "source": [
    "!pip install matplotlib"
   ]
  },
  {
   "cell_type": "code",
   "execution_count": null,
   "metadata": {},
   "outputs": [],
   "source": [
    "import altair as alt\n",
    "import pandas as pd\n",
    "\n",
    "# Create a DataFrame with the two points\n",
    "data = pd.DataFrame({\"x\": [0, 1], \"y\": [0, 0.5]})\n",
    "\n",
    "# Create the Altair chart with a line connecting the two points\n",
    "chart = alt.Chart(data).mark_line().encode(x=\"x\", y=\"y\")\n",
    "\n",
    "# Display the chart\n",
    "chart"
   ]
  },
  {
   "cell_type": "code",
   "execution_count": null,
   "metadata": {},
   "outputs": [],
   "source": [
    "import networkx as nx\n",
    "import matplotlib.pyplot as plt\n",
    "\n",
    "# Create an empty graph\n",
    "G = nx.Graph()\n",
    "\n",
    "# Add author nodes\n",
    "G.add_nodes_from([1, 2, 3, 4, 5])\n",
    "node_colors = [\"lightblue\" for _ in range(5)]\n",
    "\n",
    "# Add article nodes\n",
    "G.add_nodes_from([6, 7, 8])\n",
    "node_colors.extend([\"red\" for _ in range(3)])\n",
    "\n",
    "# Add edges\n",
    "G.add_edges_from([(1, 6), (1, 7), (2, 8), (3, 6)])\n",
    "\n",
    "# Plot the graph\n",
    "\n",
    "\n",
    "nx.draw(G, with_labels=True, node_color=node_colors, edge_color=\"gray\")\n",
    "\n",
    "# Show the plot\n",
    "plt.show()"
   ]
  },
  {
   "cell_type": "code",
   "execution_count": null,
   "metadata": {},
   "outputs": [],
   "source": [
    "import pandas as pd\n",
    "import altair as alt\n",
    "\n",
    "nodes = ['a', 'b', 'c']\n",
    "edges = \n",
    "\n",
    "df_nodes = pd.DataFrame(nodes, columns=[\"id\"])\n",
    "df_edges = pd.DataFrame(edges, columns=[\"source\", \"target\"])\n",
    "    \n",
    "# Create an Altair chart\n",
    "chart = alt.Chart(df_edges).mark_circle(size=200).encode(\n",
    "    x=alt.X('x:Q', axis=None),\n",
    "    y=alt.Y('y:Q', axis=None),\n",
    "    color=alt.Color('source:N', legend=None)\n",
    ")\n",
    "\n",
    "# Add tooltips to the chart\n",
    "chart = chart.encode(\n",
    "    tooltip=['source', 'target']\n",
    ")\n",
    "\n",
    "# Add force layout transform to the chart\n",
    "chart = chart.transform_lookup(\n",
    "    lookup='id',\n",
    "    from_=alt.LookupData(data=df_nodes, key='id', fields=['x', 'y'])\n",
    ").transform_force(\n",
    "    force='center',\n",
    "    x='x',\n",
    "    y='y'\n",
    ")\n",
    "\n",
    "# Set the chart size and remove axis\n",
    "chart = chart.properties(width=600, height=400).configure_axis(\n",
    "    grid=False,\n",
    "    ticks=False,\n",
    "    labels=False\n",
    ")\n",
    "\n",
    "chart"
   ]
  }
 ],
 "metadata": {
  "kernelspec": {
   "display_name": "Python 3",
   "language": "python",
   "name": "python3"
  },
  "language_info": {
   "codemirror_mode": {
    "name": "ipython",
    "version": 3
   },
   "file_extension": ".py",
   "mimetype": "text/x-python",
   "name": "python",
   "nbconvert_exporter": "python",
   "pygments_lexer": "ipython3",
   "version": "3.11.3"
  },
  "orig_nbformat": 4
 },
 "nbformat": 4,
 "nbformat_minor": 2
}
