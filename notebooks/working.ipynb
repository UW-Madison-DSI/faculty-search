{
 "cells": [
  {
   "cell_type": "code",
   "execution_count": null,
   "metadata": {},
   "outputs": [],
   "source": [
    "from embedding_search.vector_store import MiniStore\n",
    "import logging\n",
    "\n",
    "logging.basicConfig(level=logging.INFO)\n",
    "store = MiniStore()\n",
    "store.build()"
   ]
  },
  {
   "attachments": {},
   "cell_type": "markdown",
   "metadata": {},
   "source": [
    "# Feature 1: Search related articles"
   ]
  },
  {
   "cell_type": "code",
   "execution_count": null,
   "metadata": {},
   "outputs": [],
   "source": [
    "articles = store.search(\"pandemic resilience\", type=\"article\")\n",
    "[print(article.title) for article in articles]"
   ]
  },
  {
   "cell_type": "code",
   "execution_count": null,
   "metadata": {},
   "outputs": [],
   "source": [
    "# This search is based on the author's articles centroid, i.e., the average of all the articles' embeddings\n",
    "# i.e., it is based on relevancy only, not weighted by the number of articles\n",
    "authors = store.search(\"higgs boson\", type=\"author\")\n",
    "[print(author) for author in authors]"
   ]
  },
  {
   "cell_type": "code",
   "execution_count": null,
   "metadata": {},
   "outputs": [],
   "source": [
    "# This is a weighted by articles related to the query\n",
    "authors = store.weighted_search_author(\"Higgs field\", n_pool=100)\n",
    "[print(author) for author in authors]"
   ]
  },
  {
   "attachments": {},
   "cell_type": "markdown",
   "metadata": {},
   "source": [
    "# Network graph\n",
    "The purpose of this network graph prototype is to visualize a author and their works."
   ]
  },
  {
   "cell_type": "code",
   "execution_count": null,
   "metadata": {},
   "outputs": [],
   "source": [
    "from embedding_search.visualize import EmbeddingsProcessor, QueryPlotter"
   ]
  },
  {
   "cell_type": "code",
   "execution_count": null,
   "metadata": {},
   "outputs": [],
   "source": [
    "STORE = store  # cache this...\n",
    "\n",
    "\n",
    "def plot(query: str):\n",
    "    processor = EmbeddingsProcessor(STORE)\n",
    "    plotter = QueryPlotter(processor)\n",
    "    return plotter.plot(query)"
   ]
  },
  {
   "cell_type": "code",
   "execution_count": null,
   "metadata": {},
   "outputs": [],
   "source": [
    "query = \"higgs boson\"\n",
    "p = plot(query)\n",
    "p.save(f\"plots/{query}.html\")"
   ]
  }
 ],
 "metadata": {
  "kernelspec": {
   "display_name": "Python 3",
   "language": "python",
   "name": "python3"
  },
  "language_info": {
   "codemirror_mode": {
    "name": "ipython",
    "version": 3
   },
   "file_extension": ".py",
   "mimetype": "text/x-python",
   "name": "python",
   "nbconvert_exporter": "python",
   "pygments_lexer": "ipython3",
   "version": "3.11.3"
  },
  "orig_nbformat": 4
 },
 "nbformat": 4,
 "nbformat_minor": 2
}
