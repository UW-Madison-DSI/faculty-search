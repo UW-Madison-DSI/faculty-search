{
 "cells": [
  {
   "cell_type": "code",
   "execution_count": null,
   "metadata": {},
   "outputs": [],
   "source": [
    "from embedding_search.vector_store import MiniStore\n",
    "import logging\n",
    "\n",
    "logging.basicConfig(level=logging.DEBUG)\n",
    "store = MiniStore()\n",
    "store.build()"
   ]
  },
  {
   "cell_type": "code",
   "execution_count": null,
   "metadata": {},
   "outputs": [],
   "source": [
    "authors = store.weighted_search_author(query=\"Reading and writing\", top_k=3)"
   ]
  },
  {
   "cell_type": "code",
   "execution_count": null,
   "metadata": {},
   "outputs": [],
   "source": [
    "[print(a, a.weighted_score) for a in authors]"
   ]
  },
  {
   "cell_type": "code",
   "execution_count": null,
   "metadata": {},
   "outputs": [],
   "source": [
    "for s in sorted_orcids:\n",
    "    print(scores[s])"
   ]
  },
  {
   "cell_type": "code",
   "execution_count": null,
   "metadata": {},
   "outputs": [],
   "source": [
    "from embedding_search.utils import sort_key_by_value\n",
    "\n",
    "sorted_orcids = sort_key_by_value(scores, reversed=True)"
   ]
  },
  {
   "attachments": {},
   "cell_type": "markdown",
   "metadata": {},
   "source": [
    "# Patch community name"
   ]
  },
  {
   "cell_type": "code",
   "execution_count": null,
   "metadata": {},
   "outputs": [],
   "source": [
    "from embedding_search.community_map import download_datafile\n",
    "\n",
    "df = download_datafile()\n",
    "df.to_parquet(\"tmp/community.parquet\")\n",
    "\n",
    "id_to_community_name = {row.orcid: row.community_name for row in df.itertuples()}\n",
    "id_to_email = {row.orcid: row.email for row in df.itertuples()}"
   ]
  },
  {
   "cell_type": "code",
   "execution_count": null,
   "metadata": {},
   "outputs": [],
   "source": [
    "df.orcid.tolist()"
   ]
  },
  {
   "cell_type": "code",
   "execution_count": null,
   "metadata": {},
   "outputs": [],
   "source": [
    "import json\n",
    "from pathlib import Path\n",
    "from embedding_search.data_model import Author\n",
    "from tqdm import tqdm\n",
    "\n",
    "AUTHORS_DIR = Path(\"authors/\")\n",
    "authors_path = AUTHORS_DIR.glob(\"*.json\")\n",
    "\n",
    "\n",
    "def patch_author(json_path: Path) -> None:\n",
    "    \"\"\"Patch author JSON to include community name and email.\"\"\"\n",
    "\n",
    "    with open(json_path, \"r\") as f:\n",
    "        author = json.load(f)\n",
    "\n",
    "    author = Author(**author)\n",
    "    author.email = id_to_email[author.orcid]\n",
    "    author.community_name = id_to_community_name[author.orcid]\n",
    "    author.save(AUTHORS_DIR / f\"{author.orcid}.json\")\n",
    "\n",
    "\n",
    "for file in tqdm(authors_path):\n",
    "    patch_author(file)"
   ]
  },
  {
   "attachments": {},
   "cell_type": "markdown",
   "metadata": {},
   "source": [
    "# Patch cited-by in the database"
   ]
  },
  {
   "cell_type": "code",
   "execution_count": null,
   "metadata": {},
   "outputs": [],
   "source": [
    "from pathlib import Path\n",
    "from tqdm import tqdm\n",
    "from embedding_search.crossref import query_crossref\n",
    "from embedding_search.vector_store import get_author\n",
    "\n",
    "authors_path = Path(\"./authors/\").glob(\"*.json\")\n",
    "last_processed = \"0000-0002-5769-7094\"\n",
    "\n",
    "\n",
    "short_listed_authors = []\n",
    "start = False\n",
    "for author_file in list(authors_path):\n",
    "    if author_file.stem == last_processed:\n",
    "        start = True\n",
    "    if start:\n",
    "        short_listed_authors.append(author_file)"
   ]
  },
  {
   "cell_type": "code",
   "execution_count": null,
   "metadata": {},
   "outputs": [],
   "source": [
    "short_listed_authors"
   ]
  },
  {
   "cell_type": "code",
   "execution_count": null,
   "metadata": {},
   "outputs": [],
   "source": [
    "for author_file in tqdm(short_listed_authors):\n",
    "    print(author_file)\n",
    "    author = get_author(author_file.stem)\n",
    "\n",
    "    for article in author.articles:\n",
    "        _, cited_by = query_crossref(article.doi)\n",
    "        if cited_by:\n",
    "            article.cited_by = cited_by\n",
    "\n",
    "    author.save(author_file)"
   ]
  },
  {
   "cell_type": "code",
   "execution_count": null,
   "metadata": {},
   "outputs": [],
   "source": [
    "from embedding_search.vector_store import MiniStore\n",
    "import logging\n",
    "\n",
    "logging.basicConfig(level=logging.INFO)\n",
    "store = MiniStore()\n",
    "store.build()"
   ]
  },
  {
   "attachments": {},
   "cell_type": "markdown",
   "metadata": {},
   "source": [
    "# Feature 1: Search related articles"
   ]
  },
  {
   "cell_type": "code",
   "execution_count": null,
   "metadata": {},
   "outputs": [],
   "source": [
    "articles = store.search(\"pandemic resilience\", type=\"article\")\n",
    "[print(article.title) for article in articles]"
   ]
  },
  {
   "cell_type": "code",
   "execution_count": null,
   "metadata": {},
   "outputs": [],
   "source": [
    "# This search is based on the author's articles centroid, i.e., the average of all the articles' embeddings\n",
    "# i.e., it is based on relevancy only, not weighted by the number of articles\n",
    "authors = store.search(\"higgs boson\", type=\"author\")\n",
    "[print(author) for author in authors]"
   ]
  },
  {
   "cell_type": "code",
   "execution_count": null,
   "metadata": {},
   "outputs": [],
   "source": [
    "# This is a weighted by articles related to the query\n",
    "authors = store.weighted_search_author(\"Higgs field\", n_pool=100)\n",
    "[print(author) for author in authors]"
   ]
  },
  {
   "cell_type": "code",
   "execution_count": null,
   "metadata": {},
   "outputs": [],
   "source": []
  },
  {
   "attachments": {},
   "cell_type": "markdown",
   "metadata": {},
   "source": [
    "# Network graph\n",
    "The purpose of this network graph prototype is to visualize a author and their works."
   ]
  },
  {
   "cell_type": "code",
   "execution_count": null,
   "metadata": {},
   "outputs": [],
   "source": [
    "from embedding_search.visualize import EmbeddingsProcessor, QueryPlotter"
   ]
  },
  {
   "cell_type": "code",
   "execution_count": null,
   "metadata": {},
   "outputs": [],
   "source": [
    "STORE = store  # cache this...\n",
    "\n",
    "\n",
    "def plot(query: str):\n",
    "    processor = EmbeddingsProcessor(STORE)\n",
    "    plotter = QueryPlotter(processor)\n",
    "    return plotter.plot(query)"
   ]
  },
  {
   "cell_type": "code",
   "execution_count": null,
   "metadata": {},
   "outputs": [],
   "source": [
    "query = \"higgs boson\"\n",
    "p = plot(query)\n",
    "p.save(f\"plots/{query}.html\")"
   ]
  }
 ],
 "metadata": {
  "kernelspec": {
   "display_name": "Python 3",
   "language": "python",
   "name": "python3"
  },
  "language_info": {
   "codemirror_mode": {
    "name": "ipython",
    "version": 3
   },
   "file_extension": ".py",
   "mimetype": "text/x-python",
   "name": "python",
   "nbconvert_exporter": "python",
   "pygments_lexer": "ipython3",
   "version": "3.11.3"
  },
  "orig_nbformat": 4
 },
 "nbformat": 4,
 "nbformat_minor": 2
}
