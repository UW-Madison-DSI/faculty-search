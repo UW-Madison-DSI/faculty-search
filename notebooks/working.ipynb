{
 "cells": [
  {
   "cell_type": "code",
   "execution_count": 1,
   "metadata": {},
   "outputs": [],
   "source": [
    "from embedding_search.vector_store import MiniStore\n",
    "\n",
    "store = MiniStore()\n",
    "store.build()"
   ]
  },
  {
   "cell_type": "code",
   "execution_count": 2,
   "metadata": {},
   "outputs": [
    {
     "data": {
      "text/plain": [
       "4474"
      ]
     },
     "execution_count": 2,
     "metadata": {},
     "output_type": "execute_result"
    }
   ],
   "source": [
    "print(len(store.metadata))\n",
    "print(len(store.vectors))"
   ]
  },
  {
   "cell_type": "code",
   "execution_count": null,
   "metadata": {},
   "outputs": [],
   "source": []
  },
  {
   "cell_type": "code",
   "execution_count": null,
   "metadata": {},
   "outputs": [],
   "source": []
  },
  {
   "cell_type": "code",
   "execution_count": null,
   "metadata": {},
   "outputs": [],
   "source": []
  },
  {
   "cell_type": "code",
   "execution_count": null,
   "metadata": {},
   "outputs": [],
   "source": []
  },
  {
   "attachments": {},
   "cell_type": "markdown",
   "metadata": {},
   "source": [
    "# Network graph"
   ]
  },
  {
   "cell_type": "code",
   "execution_count": null,
   "metadata": {},
   "outputs": [],
   "source": [
    "!pip install matplotlib"
   ]
  },
  {
   "cell_type": "code",
   "execution_count": null,
   "metadata": {},
   "outputs": [],
   "source": [
    "import altair as alt\n",
    "import pandas as pd\n",
    "\n",
    "# Create a DataFrame with the two points\n",
    "data = pd.DataFrame({\"x\": [0, 1], \"y\": [0, 0.5]})\n",
    "\n",
    "# Create the Altair chart with a line connecting the two points\n",
    "chart = alt.Chart(data).mark_line().encode(x=\"x\", y=\"y\")\n",
    "\n",
    "# Display the chart\n",
    "chart"
   ]
  },
  {
   "cell_type": "code",
   "execution_count": null,
   "metadata": {},
   "outputs": [],
   "source": [
    "import networkx as nx\n",
    "import matplotlib.pyplot as plt\n",
    "\n",
    "# Create an empty graph\n",
    "G = nx.Graph()\n",
    "\n",
    "# Add author nodes\n",
    "G.add_nodes_from([1, 2, 3, 4, 5])\n",
    "node_colors = [\"lightblue\" for _ in range(5)]\n",
    "\n",
    "# Add article nodes\n",
    "G.add_nodes_from([6, 7, 8])\n",
    "node_colors.extend([\"red\" for _ in range(3)])\n",
    "\n",
    "# Add edges\n",
    "G.add_edges_from([(1, 6), (1, 7), (2, 8), (3, 6)])\n",
    "\n",
    "# Plot the graph\n",
    "\n",
    "\n",
    "nx.draw(G, with_labels=True, node_color=node_colors, edge_color=\"gray\")\n",
    "\n",
    "# Show the plot\n",
    "plt.show()"
   ]
  },
  {
   "cell_type": "code",
   "execution_count": null,
   "metadata": {},
   "outputs": [],
   "source": [
    "import pandas as pd\n",
    "import altair as alt\n",
    "\n",
    "nodes = ['a', 'b', 'c']\n",
    "edges = \n",
    "\n",
    "df_nodes = pd.DataFrame(nodes, columns=[\"id\"])\n",
    "df_edges = pd.DataFrame(edges, columns=[\"source\", \"target\"])\n",
    "    \n",
    "# Create an Altair chart\n",
    "chart = alt.Chart(df_edges).mark_circle(size=200).encode(\n",
    "    x=alt.X('x:Q', axis=None),\n",
    "    y=alt.Y('y:Q', axis=None),\n",
    "    color=alt.Color('source:N', legend=None)\n",
    ")\n",
    "\n",
    "# Add tooltips to the chart\n",
    "chart = chart.encode(\n",
    "    tooltip=['source', 'target']\n",
    ")\n",
    "\n",
    "# Add force layout transform to the chart\n",
    "chart = chart.transform_lookup(\n",
    "    lookup='id',\n",
    "    from_=alt.LookupData(data=df_nodes, key='id', fields=['x', 'y'])\n",
    ").transform_force(\n",
    "    force='center',\n",
    "    x='x',\n",
    "    y='y'\n",
    ")\n",
    "\n",
    "# Set the chart size and remove axis\n",
    "chart = chart.properties(width=600, height=400).configure_axis(\n",
    "    grid=False,\n",
    "    ticks=False,\n",
    "    labels=False\n",
    ")\n",
    "\n",
    "chart"
   ]
  }
 ],
 "metadata": {
  "kernelspec": {
   "display_name": "Python 3",
   "language": "python",
   "name": "python3"
  },
  "language_info": {
   "codemirror_mode": {
    "name": "ipython",
    "version": 3
   },
   "file_extension": ".py",
   "mimetype": "text/x-python",
   "name": "python",
   "nbconvert_exporter": "python",
   "pygments_lexer": "ipython3",
   "version": "3.11.3"
  },
  "orig_nbformat": 4
 },
 "nbformat": 4,
 "nbformat_minor": 2
}
