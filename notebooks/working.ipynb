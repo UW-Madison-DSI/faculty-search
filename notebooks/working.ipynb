{
 "cells": [
  {
   "cell_type": "code",
   "execution_count": 1,
   "metadata": {},
   "outputs": [
    {
     "name": "stderr",
     "output_type": "stream",
     "text": [
      "63it [00:04, 14.90it/s]\n"
     ]
    }
   ],
   "source": [
    "from embedding_search.vector_store import MiniStore\n",
    "import logging\n",
    "\n",
    "logging.basicConfig(level=logging.WARNING)\n",
    "store = MiniStore()\n",
    "store.build()"
   ]
  },
  {
   "attachments": {},
   "cell_type": "markdown",
   "metadata": {},
   "source": [
    "# Feature 1: Search related articles"
   ]
  },
  {
   "cell_type": "code",
   "execution_count": 2,
   "metadata": {},
   "outputs": [
    {
     "ename": "TypeError",
     "evalue": "Article.__init__() got an unexpected keyword argument 'orcid'",
     "output_type": "error",
     "traceback": [
      "\u001b[0;31m---------------------------------------------------------------------------\u001b[0m",
      "\u001b[0;31mTypeError\u001b[0m                                 Traceback (most recent call last)",
      "Cell \u001b[0;32mIn[2], line 1\u001b[0m\n\u001b[0;32m----> 1\u001b[0m articles \u001b[39m=\u001b[39m store\u001b[39m.\u001b[39;49msearch_articles(\u001b[39m\"\u001b[39;49m\u001b[39mpandemic resilience\u001b[39;49m\u001b[39m\"\u001b[39;49m)\n\u001b[1;32m      2\u001b[0m [\u001b[39mprint\u001b[39m(article\u001b[39m.\u001b[39mtitle) \u001b[39mfor\u001b[39;00m article \u001b[39min\u001b[39;00m articles]\n",
      "File \u001b[0;32m/workspaces/community-search/embedding_search/vector_store.py:77\u001b[0m, in \u001b[0;36mMiniStore.search_articles\u001b[0;34m(self, query, top_k)\u001b[0m\n\u001b[1;32m     75\u001b[0m metadata \u001b[39m=\u001b[39m \u001b[39mself\u001b[39m\u001b[39m.\u001b[39mmetadata[i]\n\u001b[1;32m     76\u001b[0m logging\u001b[39m.\u001b[39minfo(metadata)\n\u001b[0;32m---> 77\u001b[0m article \u001b[39m=\u001b[39m Article(\u001b[39m*\u001b[39;49m\u001b[39m*\u001b[39;49m{k: v \u001b[39mfor\u001b[39;49;00m k, v \u001b[39min\u001b[39;49;00m metadata\u001b[39m.\u001b[39;49mitems() \u001b[39mif\u001b[39;49;00m k \u001b[39m!=\u001b[39;49m \u001b[39m\"\u001b[39;49m\u001b[39mtype\u001b[39;49m\u001b[39m\"\u001b[39;49m})\n\u001b[1;32m     78\u001b[0m article\u001b[39m.\u001b[39mdistance \u001b[39m=\u001b[39m distances[i]\n\u001b[1;32m     79\u001b[0m articles\u001b[39m.\u001b[39mappend(article)\n",
      "\u001b[0;31mTypeError\u001b[0m: Article.__init__() got an unexpected keyword argument 'orcid'"
     ]
    }
   ],
   "source": [
    "articles = store.search_articles(\"pandemic resilience\")\n",
    "[print(article.title) for article in articles]\n",
    "\n",
    "# TODO: Fix broken feature, author now added to the store, need to filter it before sorting top-k"
   ]
  },
  {
   "cell_type": "code",
   "execution_count": 3,
   "metadata": {},
   "outputs": [
    {
     "ename": "TypeError",
     "evalue": "Article.__init__() got an unexpected keyword argument 'orcid'",
     "output_type": "error",
     "traceback": [
      "\u001b[0;31m---------------------------------------------------------------------------\u001b[0m",
      "\u001b[0;31mTypeError\u001b[0m                                 Traceback (most recent call last)",
      "Cell \u001b[0;32mIn[3], line 1\u001b[0m\n\u001b[0;32m----> 1\u001b[0m authors \u001b[39m=\u001b[39m store\u001b[39m.\u001b[39;49msearch_people(\u001b[39m\"\u001b[39;49m\u001b[39mHiggs boson\u001b[39;49m\u001b[39m\"\u001b[39;49m)\n\u001b[1;32m      2\u001b[0m [\u001b[39mprint\u001b[39m(author) \u001b[39mfor\u001b[39;00m author \u001b[39min\u001b[39;00m authors]\n",
      "File \u001b[0;32m/workspaces/community-search/embedding_search/vector_store.py:85\u001b[0m, in \u001b[0;36mMiniStore.search_people\u001b[0;34m(self, query, top_k)\u001b[0m\n\u001b[1;32m     82\u001b[0m \u001b[39mdef\u001b[39;00m \u001b[39msearch_people\u001b[39m(\u001b[39mself\u001b[39m, query: \u001b[39mstr\u001b[39m, top_k: \u001b[39mint\u001b[39m \u001b[39m=\u001b[39m \u001b[39m3\u001b[39m) \u001b[39m-\u001b[39m\u001b[39m>\u001b[39m \u001b[39mlist\u001b[39m[Author]:\n\u001b[1;32m     83\u001b[0m \u001b[39m    \u001b[39m\u001b[39m\"\"\"Search for community user who published most related articles.\"\"\"\u001b[39;00m\n\u001b[0;32m---> 85\u001b[0m     articles \u001b[39m=\u001b[39m \u001b[39mself\u001b[39;49m\u001b[39m.\u001b[39;49msearch_articles(query, top_k\u001b[39m=\u001b[39;49m\u001b[39m30\u001b[39;49m)\n\u001b[1;32m     87\u001b[0m     author_counts \u001b[39m=\u001b[39m {}\n\u001b[1;32m     88\u001b[0m     \u001b[39mfor\u001b[39;00m article \u001b[39min\u001b[39;00m articles:\n",
      "File \u001b[0;32m/workspaces/community-search/embedding_search/vector_store.py:77\u001b[0m, in \u001b[0;36mMiniStore.search_articles\u001b[0;34m(self, query, top_k)\u001b[0m\n\u001b[1;32m     75\u001b[0m metadata \u001b[39m=\u001b[39m \u001b[39mself\u001b[39m\u001b[39m.\u001b[39mmetadata[i]\n\u001b[1;32m     76\u001b[0m logging\u001b[39m.\u001b[39minfo(metadata)\n\u001b[0;32m---> 77\u001b[0m article \u001b[39m=\u001b[39m Article(\u001b[39m*\u001b[39;49m\u001b[39m*\u001b[39;49m{k: v \u001b[39mfor\u001b[39;49;00m k, v \u001b[39min\u001b[39;49;00m metadata\u001b[39m.\u001b[39;49mitems() \u001b[39mif\u001b[39;49;00m k \u001b[39m!=\u001b[39;49m \u001b[39m\"\u001b[39;49m\u001b[39mtype\u001b[39;49m\u001b[39m\"\u001b[39;49m})\n\u001b[1;32m     78\u001b[0m article\u001b[39m.\u001b[39mdistance \u001b[39m=\u001b[39m distances[i]\n\u001b[1;32m     79\u001b[0m articles\u001b[39m.\u001b[39mappend(article)\n",
      "\u001b[0;31mTypeError\u001b[0m: Article.__init__() got an unexpected keyword argument 'orcid'"
     ]
    }
   ],
   "source": [
    "authors = store.search_people(\"Higgs boson\")\n",
    "[print(author) for author in authors]"
   ]
  },
  {
   "attachments": {},
   "cell_type": "markdown",
   "metadata": {},
   "source": [
    "# Network graph\n",
    "The purpose of this network graph prototype is to visualize a author and their works."
   ]
  },
  {
   "cell_type": "code",
   "execution_count": 4,
   "metadata": {},
   "outputs": [],
   "source": [
    "import numpy as np\n",
    "import pandas as pd\n",
    "import altair as alt\n",
    "from sklearn.manifold import TSNE\n",
    "from embedding_search.utils import extract_orcid\n",
    "\n",
    "\n",
    "class EmbeddingsProcessor:\n",
    "    \"\"\"Collect all author and article embeddings in the database and project to 2d with t-SNE.\"\"\"\n",
    "\n",
    "    def __init__(self, store: MiniStore) -> None:\n",
    "        self.store = store\n",
    "        self.tsne = TSNE(n_components=2, random_state=0)\n",
    "\n",
    "    def query(self, query: str) -> pd.DataFrame:\n",
    "        \"\"\"Collect all author and article embeddings in the database.\"\"\"\n",
    "\n",
    "        # embed query\n",
    "        query_embedded = self.store.embeddings.embed_query(query)\n",
    "        query_embedded = np.array(query_embedded).reshape(1, -1)\n",
    "\n",
    "        # data[0] is query, data[1:] are the rest of the embeddings in the store with authors and articles\n",
    "        embeddings = np.array(self.store.vectors)\n",
    "        data = np.concatenate([query_embedded, embeddings])\n",
    "        data_2d = self.tsne.fit_transform(data)\n",
    "\n",
    "        df = pd.DataFrame(data_2d, columns=[\"x\", \"y\"])\n",
    "\n",
    "        # Append useful metadata for plotting\n",
    "        df[\"type\"] = [\"query\"] + [metadata[\"type\"] for metadata in self.store.metadata]\n",
    "\n",
    "        label = [query]\n",
    "        parent_orcid = [None]\n",
    "\n",
    "        for meta in self.store.metadata:\n",
    "            if meta[\"type\"] == \"article\":\n",
    "                label.append(meta[\"title\"])\n",
    "                parent_orcid.append(extract_orcid(meta[\"orcid_path\"]))\n",
    "            elif meta[\"type\"] == \"author\":\n",
    "                label.append(f\"{meta['first_name']} {meta['last_name']}\")\n",
    "                parent_orcid.append(meta[\"orcid\"])\n",
    "\n",
    "        df[\"label\"] = label\n",
    "        df[\"parent_orcid\"] = parent_orcid\n",
    "        return df"
   ]
  },
  {
   "cell_type": "code",
   "execution_count": 19,
   "metadata": {},
   "outputs": [],
   "source": [
    "class QueryPlotter:\n",
    "    \"\"\"Plot the results of a query.\"\"\"\n",
    "\n",
    "    def __init__(self, embedding_processor: EmbeddingsProcessor) -> None:\n",
    "        self.embedding_processor = embedding_processor\n",
    "\n",
    "    def plot(self, query: str) -> alt.Chart:\n",
    "        \"\"\"Plot the results of a query.\"\"\"\n",
    "\n",
    "        df = self.embedding_processor.query(query)\n",
    "        df[\"size\"] = df.type.map({\"query\": 100, \"article\": 3, \"author\": 10})\n",
    "        selector = alt.selection_point(fields=[\"parent_orcid\"])\n",
    "\n",
    "        chart = (\n",
    "            alt.Chart(df)\n",
    "            .mark_circle()\n",
    "            .encode(\n",
    "                x=\"x\",\n",
    "                y=\"y\",\n",
    "                color=\"type\",\n",
    "                size=alt.Size(\"size\", legend=None),\n",
    "                opacity=alt.condition(selector, alt.value(0.8), alt.value(0.2)),\n",
    "                tooltip=[\"label\", \"parent_orcid\"],\n",
    "            )\n",
    "            .add_params(selector)\n",
    "            .properties(width=800, height=600)\n",
    "            .interactive()\n",
    "        )\n",
    "        return chart"
   ]
  },
  {
   "cell_type": "code",
   "execution_count": 20,
   "metadata": {},
   "outputs": [],
   "source": [
    "processor = EmbeddingsProcessor(store)\n",
    "plotter = QueryPlotter(processor)\n",
    "plot = plotter.plot(\"pandemic resilience\")\n",
    "plot.save(\"plots/query_pandemic_resilience.html\")"
   ]
  },
  {
   "cell_type": "code",
   "execution_count": null,
   "metadata": {},
   "outputs": [],
   "source": []
  }
 ],
 "metadata": {
  "kernelspec": {
   "display_name": "Python 3",
   "language": "python",
   "name": "python3"
  },
  "language_info": {
   "codemirror_mode": {
    "name": "ipython",
    "version": 3
   },
   "file_extension": ".py",
   "mimetype": "text/x-python",
   "name": "python",
   "nbconvert_exporter": "python",
   "pygments_lexer": "ipython3",
   "version": "3.11.3"
  },
  "orig_nbformat": 4
 },
 "nbformat": 4,
 "nbformat_minor": 2
}
