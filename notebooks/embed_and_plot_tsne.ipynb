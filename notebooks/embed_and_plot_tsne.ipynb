{
 "cells": [
  {
   "attachments": {},
   "cell_type": "markdown",
   "metadata": {},
   "source": [
    "# Prototype research area tsne plot\n",
    "Trying to embed research description and plot it with TSNE 2d."
   ]
  },
  {
   "cell_type": "code",
   "execution_count": null,
   "metadata": {},
   "outputs": [],
   "source": [
    "from dotenv import load_dotenv\n",
    "from community_map import download_datafile, parse, extract_metadata\n",
    "import numpy as np\n",
    "import pandas as pd\n",
    "import altair as alt\n",
    "\n",
    "from langchain.vectorstores import Annoy\n",
    "from langchain.embeddings import OpenAIEmbeddings\n",
    "from sklearn.manifold import TSNE"
   ]
  },
  {
   "cell_type": "code",
   "execution_count": null,
   "metadata": {},
   "outputs": [],
   "source": [
    "load_dotenv()\n",
    "# df = download_datafile()\n",
    "# df.to_parquet(\"tmp/df.parquet\")"
   ]
  },
  {
   "cell_type": "code",
   "execution_count": null,
   "metadata": {},
   "outputs": [],
   "source": [
    "df = pd.read_parquet(\"tmp/df.parquet\")\n",
    "texts, metadatas = parse(df)"
   ]
  },
  {
   "attachments": {},
   "cell_type": "markdown",
   "metadata": {},
   "source": [
    "### Annoy Document Store"
   ]
  },
  {
   "cell_type": "code",
   "execution_count": null,
   "metadata": {},
   "outputs": [],
   "source": [
    "embeddings = OpenAIEmbeddings()\n",
    "\n",
    "# embedded = embeddings.embed_documents(texts)\n",
    "\n",
    "with np.load(\"tmp/embedded.npz\") as data:\n",
    "    embedded = data[\"embedded\"]\n",
    "\n",
    "# Push to Annoy\n",
    "text_and_embedded = list(zip(texts, embedded))\n",
    "doc_store = Annoy.from_embeddings(text_and_embedded, embeddings, metadatas=metadatas)"
   ]
  },
  {
   "cell_type": "code",
   "execution_count": null,
   "metadata": {},
   "outputs": [],
   "source": [
    "# Try to search with the default cosine\n",
    "doc_store.similarity_search_with_score(\"Soil health\", k=3)"
   ]
  },
  {
   "cell_type": "code",
   "execution_count": null,
   "metadata": {},
   "outputs": [],
   "source": [
    "doc_store.save_local(\"doc_store.ann\")\n",
    "\n",
    "# doc_store = Annoy.load_local(\"doc_store.ann\", embeddings=embeddings)"
   ]
  },
  {
   "attachments": {},
   "cell_type": "markdown",
   "metadata": {},
   "source": [
    "## T-SNE"
   ]
  },
  {
   "cell_type": "code",
   "execution_count": null,
   "metadata": {},
   "outputs": [],
   "source": [
    "tsne = TSNE(n_components=2)\n",
    "embedded = np.array(embedded, dtype=np.float32)\n",
    "embedded_2d = tsne.fit_transform(embedded)"
   ]
  },
  {
   "cell_type": "code",
   "execution_count": null,
   "metadata": {},
   "outputs": [],
   "source": [
    "first_names = extract_metadata(metadatas, \"first_name\")\n",
    "last_names = extract_metadata(metadatas, \"last_name\")\n",
    "names = [f\"{first} {last}\" for first, last in zip(first_names, last_names)]"
   ]
  },
  {
   "cell_type": "code",
   "execution_count": null,
   "metadata": {},
   "outputs": [],
   "source": [
    "plot_df = pd.DataFrame(embedded_2d, columns=[\"x\", \"y\"])\n",
    "plot_df[\"name\"] = names\n",
    "plot_df[\"text\"] = texts"
   ]
  },
  {
   "cell_type": "code",
   "execution_count": null,
   "metadata": {},
   "outputs": [],
   "source": [
    "base = alt.Chart(plot_df).mark_circle().encode(x=\"x\", y=\"y\", tooltip=[\"name\", \"text\"])\n",
    "name = base.mark_text(align=\"left\", dx=5).encode(text=\"name\")\n",
    "plot = (\n",
    "    (base + name)\n",
    "    .interactive()\n",
    "    .properties(width=800, height=600, title=\"Community Map Users T-SNE\")\n",
    ")\n",
    "plot.save(\"plots/user_tsne.html\")"
   ]
  },
  {
   "attachments": {},
   "cell_type": "markdown",
   "metadata": {},
   "source": [
    "Save npz for later use"
   ]
  },
  {
   "cell_type": "code",
   "execution_count": null,
   "metadata": {},
   "outputs": [],
   "source": [
    "np.savez(\"tmp/embedded.npz\", embedded=embedded)"
   ]
  }
 ],
 "metadata": {
  "kernelspec": {
   "display_name": "Python 3",
   "language": "python",
   "name": "python3"
  },
  "language_info": {
   "codemirror_mode": {
    "name": "ipython",
    "version": 3
   },
   "file_extension": ".py",
   "mimetype": "text/x-python",
   "name": "python",
   "nbconvert_exporter": "python",
   "pygments_lexer": "ipython3",
   "version": "3.11.3"
  },
  "orig_nbformat": 4
 },
 "nbformat": 4,
 "nbformat_minor": 2
}
